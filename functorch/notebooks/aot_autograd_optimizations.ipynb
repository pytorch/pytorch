{
 "cells": [
  {
   "cell_type": "markdown",
   "metadata": {},
   "source": [
    "# AOT Autograd - How to use and optimize?\n",
    "\n",
    "<a href=\"https://colab.research.google.com/github/pytorch/pytorch/blob/master/functorch/notebooks/aot_autograd_optimizations.ipynb\">\n",
    "  <img style=\"width: auto\" src=\"https://colab.research.google.com/assets/colab-badge.svg\" alt=\"Open In Colab\"/>\n",
    "</a>\n",
    "\n",
    "## Background\n",
    "In this tutorial, we will learn how to use AOT Autograd to speedup training of deep learning models.\n",
    "\n",
    "For background, AOT Autograd is a toolkit to assist developers in accelerating training on PyTorch. Broadly, it has two key features\n",
    "* AOT Autograd traces the forward and backward graph ahead of time. Presence of forward and backward graph ahead of time facilitates joint graph optimizations such as recomputation or activation checkpointing.\n",
    "* AOT Autograd provides simple mechanisms to compile the extracted forward and backward graphs through deep learning compilers, such as NVFuser, NNC, TVM and others.\n"
   ]
  },
  {
   "cell_type": "markdown",
   "metadata": {},
   "source": [
    "\n",
    "## What will you learn?\n",
    "In this tutorial, we will look at how AOT Autograd can be used, in conjunction with backend compilers, to accelerate the training of PyTorch models. More specifically, you will learn\n",
    "* How to use AOT Autograd?\n",
    "* How AOT Autograd uses backend compilers to perform operation fusion?\n",
    "* How AOT Autograd enables training-specific optimizations such as Recomputation?\n",
    "\n",
    "So, lets get started.\n"
   ]
  },
  {
   "cell_type": "markdown",
   "metadata": {},
   "source": [
    "## Setup\n",
    "\n",
    "Let's setup a simple model.\n"
   ]
  },
  {
   "cell_type": "code",
   "execution_count": 1,
   "metadata": {},
   "outputs": [],
   "source": [
    "import torch\n",
    "\n",
    "def fn(a, b, c, d):\n",
    "    x = a + b + c + d\n",
    "    return x.cos().cos()"
   ]
  },
  {
   "cell_type": "code",
   "execution_count": 2,
   "metadata": {},
   "outputs": [],
   "source": [
    "# Test that it works\n",
    "a, b, c, d = [torch.randn(2, 4, requires_grad=True) for _ in range(4)]\n",
    "ref = fn(a, b, c, d)\n",
    "loss = ref.sum()\n",
    "loss.backward()"
   ]
  },
  {
   "cell_type": "markdown",
   "metadata": {},
   "source": [
    "## Use AOT Autograd\n",
    "\n",
    "Now, lets use AOT Autograd and look at the extracted forward and backward graphs. Internally, AOT uses `__torch_dispatch__` based tracing mechanism to extract forward and backward graphs, and wraps them in `torch.Fx` GraphModule containers. Note that AOT Autograd tracing is different from the usual Fx symbolic tracing. AOT Autograd uses Fx GraphModule just to represent the traced graphs (and not for tracing).\n",
    "\n",
    "AOT Autograd then sends these forward and backward graphs to the user supplied compilers. So, lets write a compiler that just prints the graph."
   ]
  },
  {
   "cell_type": "code",
   "execution_count": 3,
   "metadata": {},
   "outputs": [
    {
     "name": "stdout",
     "output_type": "stream",
     "text": [
      "\n",
      "\n",
      "\n",
      "def forward(self, primals_1, primals_2, primals_3, primals_4):\n",
      "    add = torch.ops.aten.add(primals_1, primals_2);  primals_1 = primals_2 = None\n",
      "    add_1 = torch.ops.aten.add(add, primals_3);  add = primals_3 = None\n",
      "    add_2 = torch.ops.aten.add(add_1, primals_4);  add_1 = primals_4 = None\n",
      "    cos = torch.ops.aten.cos(add_2)\n",
      "    cos_1 = torch.ops.aten.cos(cos)\n",
      "    return [cos_1, add_2, cos]\n",
      "    \n",
      "\n",
      "\n",
      "\n",
      "def forward(self, add_2, cos, tangents_1):\n",
      "    sin = torch.ops.aten.sin(cos);  cos = None\n",
      "    neg = torch.ops.aten.neg(sin);  sin = None\n",
      "    mul = torch.ops.aten.mul(tangents_1, neg);  tangents_1 = neg = None\n",
      "    sin_1 = torch.ops.aten.sin(add_2);  add_2 = None\n",
      "    neg_1 = torch.ops.aten.neg(sin_1);  sin_1 = None\n",
      "    mul_1 = torch.ops.aten.mul(mul, neg_1);  mul = neg_1 = None\n",
      "    return [mul_1, mul_1, mul_1, mul_1]\n",
      "    \n"
     ]
    }
   ],
   "source": [
    "from functorch.compile import aot_function\n",
    "\n",
    "# The compiler_fn is called after the forward and backward graphs are extracted.\n",
    "# Here, we just print the code in the compiler_fn. Return of this function is a callable.\n",
    "def compiler_fn(fx_module: torch.fx.GraphModule, _):\n",
    "    print(fx_module.code)\n",
    "    return fx_module\n",
    "\n",
    "# Pass on the compiler_fn to the aot_function API\n",
    "aot_print_fn = aot_function(fn, fw_compiler=compiler_fn, bw_compiler=compiler_fn)\n",
    "\n",
    "# Run the aot_print_fn once to trigger the compilation and print the graphs\n",
    "cloned_inputs = [x.clone().detach().requires_grad_(True) for x in (a, b, c, d)]\n",
    "cloned_a, cloned_b, cloned_c, cloned_d = cloned_inputs\n",
    "res = aot_print_fn(cloned_a, cloned_b, cloned_c, cloned_d)\n",
    "res.sum().backward()\n",
    "assert torch.allclose(ref, res)"
   ]
  },
  {
   "cell_type": "markdown",
   "metadata": {},
   "source": [
    "The above code prints the Fx graph for the forward and backward graph. You can see that in addition to the original input of the forward pass, the forward graph outputs some additional tensors. These tensors are saved for the backward pass for gradient calculation. We will come back to these later while talking about recomputation."
   ]
  },
  {
   "cell_type": "markdown",
   "metadata": {},
   "source": [
    "## Operator Fusion\n",
    "Now that we understand how to use AOT Autograd to print forward and backward graphs, let us use AOT Autograd to use some actual deep learning compiler. In this tutorial, we use PyTorch Neural Network Compiler (NNC) to perform pointwise operator fusion for CPU devices. For CUDA devices, a suitable alternative is NvFuser. So, lets use NNC"
   ]
  },
  {
   "cell_type": "code",
   "execution_count": 4,
   "metadata": {},
   "outputs": [],
   "source": [
    "# AOT Autograd has a suite of already integrated backends. Lets import the NNC compiler backend - ts_compile\n",
    "from functorch.compile import ts_compile\n",
    "\n",
    "# Lets compile the forward and backward through ts_compile.\n",
    "aot_nnc_fn = aot_function(fn, fw_compiler=ts_compile, bw_compiler=ts_compile)\n",
    "\n",
    "# Correctness checking. Lets clone the input so that we can check grads.\n",
    "cloned_inputs = [x.clone().detach().requires_grad_(True) for x in (a, b, c, d)]\n",
    "cloned_a, cloned_b, cloned_c, cloned_d = cloned_inputs\n",
    "\n",
    "res = aot_nnc_fn(*cloned_inputs)\n",
    "loss = res.sum()\n",
    "loss.backward()\n",
    "assert torch.allclose(ref, res)\n",
    "assert torch.allclose(a.grad, cloned_a.grad)\n",
    "assert torch.allclose(b.grad, cloned_b.grad)\n",
    "assert torch.allclose(c.grad, cloned_c.grad)\n",
    "assert torch.allclose(d.grad, cloned_d.grad)"
   ]
  },
  {
   "cell_type": "markdown",
   "metadata": {},
   "source": [
    "Lets benchmark the original and AOT Autograd + NNC compiled function."
   ]
  },
  {
   "cell_type": "code",
   "execution_count": 5,
   "metadata": {},
   "outputs": [],
   "source": [
    "# Lets write a function to benchmark the forward and backward pass\n",
    "import time\n",
    "import statistics\n",
    "\n",
    "def bench(fn, args, prefix):\n",
    "    warmup = 10\n",
    "    iterations = 100\n",
    "\n",
    "    for _ in range(warmup):\n",
    "        ref = fn(*args)\n",
    "        ref.sum().backward()\n",
    "    \n",
    "    fw_latencies = []\n",
    "    bw_latencies = []\n",
    "    for _ in range(iterations):\n",
    "        for arg in args:\n",
    "            arg.grad = None\n",
    "\n",
    "        fw_begin = time.perf_counter()\n",
    "        ref = fn(*args)\n",
    "        fw_end = time.perf_counter()\n",
    "\n",
    "        loss = ref.sum() \n",
    "\n",
    "        bw_begin = time.perf_counter()\n",
    "        loss.backward()\n",
    "        bw_end = time.perf_counter()\n",
    "\n",
    "        fw_latencies.append(fw_end - fw_begin)\n",
    "        bw_latencies.append(bw_end - bw_begin)\n",
    "    \n",
    "    avg_fw_latency = statistics.mean(fw_latencies) * 10**6\n",
    "    avg_bw_latency = statistics.mean(bw_latencies) * 10**6\n",
    "    print(prefix, \"Fwd = \" + str(avg_fw_latency) + \" us\", \"Bwd = \" + str(avg_bw_latency) + \" us\", sep=', ')\n"
   ]
  },
  {
   "cell_type": "code",
   "execution_count": 6,
   "metadata": {},
   "outputs": [
    {
     "name": "stdout",
     "output_type": "stream",
     "text": [
      "Eager, Fwd = 982.6959593920038 us, Bwd = 1899.7003795811906 us\n",
      "AOT, Fwd = 734.2723174951971 us, Bwd = 831.1696897726506 us\n"
     ]
    }
   ],
   "source": [
    "large_inputs = [torch.randn(1024, 2048, requires_grad=True) for _ in range(4)]\n",
    "\n",
    "# Benchmark the Eager and AOT Autograd functions\n",
    "bench(fn, large_inputs, \"Eager\")\n",
    "bench(aot_nnc_fn, large_inputs, \"AOT\")"
   ]
  },
  {
   "cell_type": "markdown",
   "metadata": {},
   "source": [
    "With the help of NNC, AOT Autograd speeds up both the forward and backward pass. If we look at the printed graphs earlier, all the operators are pointwise. The pointwise operators are memory bandwidth bound, and thus benefit from operator fusion. Looking closely at the numbers, the backward pass gets higher speedup. This is because forward pass has to output some intermediate tensors for gradient calculation for the backward pass, preventing it from saving some memory reads and writes. However, such restriction does not exist in the backward graph."
   ]
  },
  {
   "cell_type": "markdown",
   "metadata": {},
   "source": [
    "## Recomputation (aka Activation Checkpointing)\n",
    "Recomputation (often called activation checkpointing) is a technique in which, instead of saving some activations for use in backwards, we recompute them **during** the backwards pass. Recomputing saves memory, but we incur performance overhead.\n",
    "\n",
    "However, in the presence of fusing compiler, we can do better than that. We can recompute the fusion-friendly operators to save memory, and then rely on the fusing compiler to fuse the recomputed operators. This reduces both memory and runtime. Please refer to this [discuss post](https://dev-discuss.pytorch.org/t/min-cut-optimal-recomputation-i-e-activation-checkpointing-with-aotautograd/467) for more details.\n",
    "\n",
    "Here, we use AOT Autograd with NNC to perform similar type of recomputation. At the end of `__torch_dispatch__` tracing, AOT Autograd has a forward graph and joint forward-backward graph. AOT Autograd then uses a partitioner to isolate the forward and backward graph. In the example above, we used a default partitioner. For this experiment, we will use another partitioner called `min_cut_rematerialization_partition` to perform smarter fusion-aware recomputation. The partitioner is configurable and one can write their own partitioner to plug it in AOT Autograd."
   ]
  },
  {
   "cell_type": "code",
   "execution_count": 7,
   "metadata": {},
   "outputs": [
    {
     "name": "stdout",
     "output_type": "stream",
     "text": [
      "\n",
      "\n",
      "\n",
      "def forward(self, primals_1, primals_2, primals_3, primals_4):\n",
      "    add = torch.ops.aten.add(primals_1, primals_2);  primals_1 = primals_2 = None\n",
      "    add_1 = torch.ops.aten.add(add, primals_3);  add = primals_3 = None\n",
      "    add_2 = torch.ops.aten.add(add_1, primals_4);  add_1 = primals_4 = None\n",
      "    cos = torch.ops.aten.cos(add_2)\n",
      "    cos_1 = torch.ops.aten.cos(cos);  cos = None\n",
      "    return [cos_1, add_2]\n",
      "    \n",
      "\n",
      "\n",
      "\n",
      "def forward(self, add_2, tangents_1):\n",
      "    cos = torch.ops.aten.cos(add_2)\n",
      "    sin = torch.ops.aten.sin(cos);  cos = None\n",
      "    neg = torch.ops.aten.neg(sin);  sin = None\n",
      "    mul = torch.ops.aten.mul(tangents_1, neg);  tangents_1 = neg = None\n",
      "    sin_1 = torch.ops.aten.sin(add_2);  add_2 = None\n",
      "    neg_1 = torch.ops.aten.neg(sin_1);  sin_1 = None\n",
      "    mul_1 = torch.ops.aten.mul(mul, neg_1);  mul = neg_1 = None\n",
      "    return [mul_1, mul_1, mul_1, mul_1]\n",
      "    \n"
     ]
    }
   ],
   "source": [
    "from functorch.compile import min_cut_rematerialization_partition\n",
    "\n",
    "# Zero out the gradients so we can do a comparison later\n",
    "a.grad, b.grad, c.grad, d.grad = (None,) * 4\n",
    "\n",
    "# Lets set up the partitioner. Also set the fwd and bwd compilers to the printer function that we used earlier.\n",
    "# This will show us how the recomputation has modified the graph.\n",
    "aot_fn = aot_function(fn, fw_compiler=compiler_fn, bw_compiler=compiler_fn, partition_fn=min_cut_rematerialization_partition)\n",
    "res = aot_fn(a, b, c, d).sum().backward()"
   ]
  },
  {
   "cell_type": "markdown",
   "metadata": {},
   "source": [
    "We can see that compared to default partitioner, forward pass now outputs fewer tensors, and recomputes some operations in the backward pass. Let us try NNC compiler now to perform operator fusions (note that we also have a wrapper function - `memory_efficient_fusion` which internally uses `min_cut_rematerialization_partition` and Torchscript compiler to achieve the same effect as following code)."
   ]
  },
  {
   "cell_type": "code",
   "execution_count": 8,
   "metadata": {},
   "outputs": [],
   "source": [
    "\n",
    "# Lets set up the partitioner and NNC compiler.\n",
    "aot_recompute_nnc_fn = aot_function(fn, fw_compiler=ts_compile, bw_compiler=ts_compile, partition_fn=min_cut_rematerialization_partition)\n",
    "\n",
    "# Correctness checking. Lets clone the input so that we can check grads.\n",
    "cloned_inputs = [x.clone().detach().requires_grad_(True) for x in (a, b, c, d)]\n",
    "cloned_a, cloned_b, cloned_c, cloned_d = cloned_inputs\n",
    "\n",
    "res = aot_recompute_nnc_fn(*cloned_inputs)\n",
    "loss = res.sum()\n",
    "loss.backward()\n",
    "assert torch.allclose(ref, res)\n",
    "assert torch.allclose(a.grad, cloned_a.grad)\n",
    "assert torch.allclose(b.grad, cloned_b.grad)\n",
    "assert torch.allclose(c.grad, cloned_c.grad)\n",
    "assert torch.allclose(d.grad, cloned_d.grad)"
   ]
  },
  {
   "cell_type": "markdown",
   "metadata": {},
   "source": [
    "Finally, lets benchmark the different functions"
   ]
  },
  {
   "cell_type": "code",
   "execution_count": 14,
   "metadata": {},
   "outputs": [
    {
     "name": "stdout",
     "output_type": "stream",
     "text": [
      "Eager, Fwd = 740.7676504226401 us, Bwd = 1560.5240693548694 us\n",
      "AOT, Fwd = 713.8530415249988 us, Bwd = 909.1200679540634 us\n",
      "AOT_Recomp, Fwd = 712.2249767417088 us, Bwd = 791.4606417762116 us\n"
     ]
    }
   ],
   "source": [
    "bench(fn, large_inputs, \"Eager\")\n",
    "bench(aot_nnc_fn, large_inputs, \"AOT\")\n",
    "bench(aot_recompute_nnc_fn, large_inputs, \"AOT_Recomp\")"
   ]
  },
  {
   "cell_type": "markdown",
   "metadata": {},
   "source": [
    "We observe that both forward and backward latency improve over the default partitioner (and a lot better than eager). Fewer outputs in the forward pass and fewer inputs in the backward pass, along with fusion, allows better memory bandwidth utilization leading to further speedups."
   ]
  },
  {
   "cell_type": "markdown",
   "metadata": {},
   "source": [
    "## Actual Usage\n",
    "For actual usage on CUDA devices, we've wrapped AOTAutograd in a convenient wrapper - `memory_efficient_fusion`. Use this for fusion on GPU!\n",
    "\n",
    "```\n",
    "from functorch.compile import memory_efficient_fusion\n",
    "```\n"
   ]
  }
 ],
 "metadata": {
  "kernelspec": {
   "display_name": "Python 3.9.5 ('base')",
   "language": "python",
   "name": "python3"
  },
  "language_info": {
   "codemirror_mode": {
    "name": "ipython",
    "version": 3
   },
   "file_extension": ".py",
   "mimetype": "text/x-python",
   "name": "python",
   "nbconvert_exporter": "python",
   "pygments_lexer": "ipython3",
   "version": "3.9.5"
  },
  "orig_nbformat": 4,
  "vscode": {
   "interpreter": {
    "hash": "73b6e0ee7c860e06bb349c72324473b318d6cb6c97bcad772bce0703fb8d0dfb"
   }
  }
 },
 "nbformat": 4,
 "nbformat_minor": 2
}
